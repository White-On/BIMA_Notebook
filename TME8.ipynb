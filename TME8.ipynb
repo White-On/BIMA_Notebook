{
 "cells": [
  {
   "cell_type": "markdown",
   "metadata": {},
   "source": [
    "# Practical work 8: Split and Merge\n",
    "\n",
    "In this practical work, we implement and test the split and merge algorithm."
   ]
  },
  {
   "cell_type": "code",
   "execution_count": 10,
   "metadata": {},
   "outputs": [],
   "source": [
    "### Usefull libraries\n",
    "from PIL import Image\n",
    "import numpy as np\n",
    "import matplotlib.pyplot as plt\n",
    "\n",
    "### Data\n",
    "img_test = np.full((64,64),150,dtype=np.uint8)\n",
    "img_test[32:48,16:16+32] = 100\n",
    "img_test[8:24,40:56] = 50\n",
    "angio = np.array(Image.open('img/angiogra.png'))\n",
    "cam = np.array(Image.open('img/cameraman.png'))\n",
    "muscle = np.array(Image.open('img/muscle.png'))\n",
    "prisme = np.array(Image.open('img/prisme.png'))\n",
    "seiche = np.array(Image.open('img/seiche.png'))\n",
    "\n",
    "### Usefull functions\n",
    "def neighbors(b,K):\n",
    "    \"\"\" blockStat*list[blockStat]->list[blockStat]\n",
    "        returns the list of neighbors of b and elements of K \n",
    "    \"\"\"\n",
    "    def belongsTo(x,y,a):\n",
    "        \"\"\" int*int*BlockStat -> bool \n",
    "            Test if pixel (x,y) belongs to block a \n",
    "        \"\"\"\n",
    "        return x>=a[0] and y>=a[1] and x<a[0]+a[2] and y<a[1]+a[3]\n",
    "    def areNeighbors(a,b):\n",
    "        \"\"\" BlockStat**2 -> bool\n",
    "            Test if a and b are neighbors\n",
    "        \"\"\"\n",
    "        if a[2]>b[2] and a[3]>b[3]:\n",
    "            a,b=b,a\n",
    "        x,y = a[0]+a[2]//2,a[1]+a[3]//2\n",
    "        return belongsTo(x+a[2],y,b) or belongsTo(x-a[2],y,b) or belongsTo(x,y+a[3],b) or belongsTo(x,y-a[3],b)\n",
    "    N = []\n",
    "    for n in K:\n",
    "        if areNeighbors(b,n):\n",
    "            N.append(n)\n",
    "    return N\n"
   ]
  },
  {
   "cell_type": "markdown",
   "metadata": {},
   "source": [
    "## Exercise 1\n",
    "\n",
    "### Question 1\n",
    "Write the recursive function ``split()`` discussed in tutorial work. \n",
    "It takes as input the image, a region, a predicate, and a variable number of arguments. \n",
    "The region is a Python formal type ``Block`` defined by:\n",
    "```python\n",
    "type Block = tuple[int**4]\n",
    "```\n",
    "The function ``split()`` returns a quadtree, a Python formal type, recursivelly defined by:\n",
    "```python\n",
    "type QuadTree = list[(QuadTree**4|Block)] \n",
    "```\n",
    "\n",
    "The predicate is a Python function with the following signature:\n",
    "```python\n",
    "Array*Block*...->bool\n",
    "```\n",
    "It can take a variable number of parameters which correspond to the parameters required by the predicate."
   ]
  },
  {
   "cell_type": "code",
   "execution_count": 59,
   "metadata": {},
   "outputs": [],
   "source": [
    "class Region:\n",
    "    def __init__(self,x, y, n, m):\n",
    "        self.x = x\n",
    "        self.y = y\n",
    "        self.n = n\n",
    "        self.m = m\n",
    "    \n",
    "    def getRegionValue(self, img):\n",
    "        return img[self.x:self.x+self.n, self.y:self.y+self.m]\n",
    "    \n",
    "    def getRegionCoordinates(self):\n",
    "        return (self.x, self.y, self.n, self.m)\n",
    "    \n",
    "    def __str__(self) -> str:\n",
    "        return f\"Region({self.x}, {self.y}, {self.n}, {self.m})\"\n",
    "    \n",
    "    def __repr__(self) -> str:\n",
    "        return f\"Region({self.x}, {self.y}, {self.n}, {self.m})\"\n",
    "    \n",
    "    def RegionStat(self, img):\n",
    "        return (self.x, self.y, self.n, self.m, self.n * self.m, np.mean(self.getRegionValue(img)), np.std(self.getRegionValue(img)))"
   ]
  },
  {
   "cell_type": "code",
   "execution_count": 56,
   "metadata": {},
   "outputs": [],
   "source": [
    "class QuadTree:\n",
    "    def __init__(self, region:Region, NW, NE, SW, SE) -> None:\n",
    "        self.NW = NW\n",
    "        self.NE = NE\n",
    "        self.SW = SW\n",
    "        self.SE = SE\n",
    "        self.region = region\n",
    "    \n",
    "    def __str__(self) -> str:\n",
    "        return f\"Region : {self.region}, NW : {self.NW}, NE : {self.NE}, SW : {self.SW}, SE : {self.SE}\"\n",
    "    \n",
    "    def listRegions(self):\n",
    "        if self.NW == None:\n",
    "            return [self.region]\n",
    "        else:\n",
    "            return self.NW.listRegions() + self.NE.listRegions() + self.SW.listRegions() + self.SE.listRegions()\n",
    "    \n",
    "    def ListRegionsStat(self, img):\n",
    "        if self.NW == None:\n",
    "            return [self.region.RegionStat(img)]\n",
    "        else:\n",
    "            return self.NW.ListRegionsStat(img) + self.NE.ListRegionsStat(img) + self.SW.ListRegionsStat(img) + self.SE.ListRegionsStat(img)"
   ]
  },
  {
   "cell_type": "code",
   "execution_count": 13,
   "metadata": {},
   "outputs": [],
   "source": [
    "# type Block = tuple[int**4]\n",
    "# type QuadTree = list[(QuadTree**4|Block)] \n",
    "\n",
    "def split(I,reg:Region,pred,*args):\n",
    "    \"\"\" Array*Block*(Array*Block*...->bool)*... -> 4-aire\n",
    "        Performs a quadtree splitting of image I drived by a predicate\n",
    "    \"\"\"\n",
    "    x, y, n, m = reg.getRegionCoordinates()\n",
    "    if pred(I,reg,*args) and n>2 and m>2:\n",
    "        n2, m2 = n//2, m//2\n",
    "        NW = split(I,Region(x,y,n2,m2),pred,*args)\n",
    "        NE = split(I,Region(x,y+m2,n2,m2),pred,*args)\n",
    "        SW = split(I,Region(x+n2,y,n2,m2),pred,*args)\n",
    "        SE = split(I,Region(x+n2,y+m2,n2,m2),pred,*args)\n",
    "        return QuadTree(reg,NW,NE,SW,SE)\n",
    "    else:\n",
    "        return QuadTree(reg,None,None,None,None)"
   ]
  },
  {
   "cell_type": "markdown",
   "metadata": {},
   "source": [
    "### Question 2\n",
    "Write the function ```predsplit(I,B,*args)``` with signature:\n",
    "```python\n",
    "Array*Block*... -> bool\n",
    "```\n",
    "that returns True if the standard deviation of image ``I`` computed in region ``B`` is greater than the first value of argument ``*args`` (it can be accessed simply by ``*args[0]``)."
   ]
  },
  {
   "cell_type": "code",
   "execution_count": 14,
   "metadata": {},
   "outputs": [],
   "source": [
    "def predsplit(I,reg:Region,*args):\n",
    "    \"\"\" Array*Block*... -> bool\n",
    "    \"\"\" \n",
    "    return reg.getRegionValue(I).std() > args[0]"
   ]
  },
  {
   "cell_type": "markdown",
   "metadata": {},
   "source": [
    "### Question 3\n",
    "Write the function ``listRegions()`` which applies a depth-first search on the quadtree given as parameter, and returns the list of the leaves of the quadtree. \n",
    "\n",
    "Some recalls about lists in Python;\n",
    " - Initialization: `L = []` (empty list)\n",
    " - Add a element `a` into a list `L`: `L.append(a)`"
   ]
  },
  {
   "cell_type": "code",
   "execution_count": 15,
   "metadata": {},
   "outputs": [],
   "source": [
    "def listRegions(L):\n",
    "    \"\"\" QuadTree -> list[Block]\n",
    "    \"\"\"\n",
    "    return L.listRegions()"
   ]
  },
  {
   "cell_type": "markdown",
   "metadata": {},
   "source": [
    "### Question 4\n",
    "Test your codes on the synthetic image ``img_test`` seen in tutorial work. Print the value returned by ``split()`` as well as the one returned by ``listRegions()``. "
   ]
  },
  {
   "cell_type": "code",
   "execution_count": 25,
   "metadata": {},
   "outputs": [
    {
     "name": "stdout",
     "output_type": "stream",
     "text": [
      "[Region(0, 0, 32, 32), Region(0, 32, 8, 8), Region(0, 40, 8, 8), Region(8, 32, 8, 8), Region(8, 40, 8, 8), Region(0, 48, 8, 8), Region(0, 56, 8, 8), Region(8, 48, 8, 8), Region(8, 56, 8, 8), Region(16, 32, 8, 8), Region(16, 40, 8, 8), Region(24, 32, 8, 8), Region(24, 40, 8, 8), Region(16, 48, 8, 8), Region(16, 56, 8, 8), Region(24, 48, 8, 8), Region(24, 56, 8, 8), Region(32, 0, 16, 16), Region(32, 16, 16, 16), Region(48, 0, 16, 16), Region(48, 16, 16, 16), Region(32, 32, 16, 16), Region(32, 48, 16, 16), Region(48, 32, 16, 16), Region(48, 48, 16, 16)]\n"
     ]
    }
   ],
   "source": [
    "print(split(img_test,Region(0,0,img_test.shape[0],img_test.shape[1]),predsplit,10).listRegions())"
   ]
  },
  {
   "cell_type": "markdown",
   "metadata": {},
   "source": [
    "### Question 5\n",
    "Write the function ```drawRegions(L,I)``` which takes as arguments a list of regions, an image, and returns an image  where the boundaries of each region have been traced with red color. Indication: the returned image is a hypermatrix of dimension 3, the third dimension is of size 3 and encodes the red, green and blue components of a RGB colorspace. Test the function on the previous example."
   ]
  },
  {
   "cell_type": "code",
   "execution_count": 51,
   "metadata": {},
   "outputs": [],
   "source": [
    "def drawRegions(LL,I):\n",
    "    \"\"\" list[Block]*Array -> Array\n",
    "        parcours de la liste dessin des régions \n",
    "    \"\"\"\n",
    "    # On copie l'image I en la redimensionnant en 3 canaux\n",
    "    RGB = np.zeros((I.shape[0],I.shape[1],3),dtype=np.uint8)\n",
    "    RGB[:,:,0] = I\n",
    "    RGB[:,:,1] = I\n",
    "    RGB[:,:,2] = I\n",
    "    # On parcourt la liste des régions\n",
    "    for reg in LL:\n",
    "        # On récupère les coordonnées de la région et on dessine un rectangle rouge\n",
    "        x,y,n,m = reg.getRegionCoordinates()\n",
    "        # RGB[x:x+n,y,0] = 255\n",
    "        # RGB[x,y:y+m,0] = 255\n",
    "        RGB[x:x+n,y+m-1,0] = 255\n",
    "        RGB[x+n-1,y:y+m,0] = 255\n",
    "\n",
    "        # RGB[x:x+n,y,1:] = 0\n",
    "        # RGB[x,y:y+m,01:] = 0\n",
    "        RGB[x:x+n,y+m-1,1:] = 0\n",
    "        RGB[x+n-1,y:y+m,1:] = 0\n",
    "\n",
    "    return RGB\n"
   ]
  },
  {
   "cell_type": "code",
   "execution_count": 52,
   "metadata": {},
   "outputs": [
    {
     "data": {
      "image/png": "[encoded data removed]",
      "text/plain": [
       "<Figure size 640x480 with 1 Axes>"
      ]
     },
     "metadata": {},
     "output_type": "display_data"
    }
   ],
   "source": [
    "LR = listRegions(split(img_test,Region(0,0,img_test.shape[0],img_test.shape[1]),predsplit,10))\n",
    "new_img = drawRegions(LR,img_test)\n",
    "\n",
    "plt.imshow(new_img)\n",
    "plt.show()"
   ]
  },
  {
   "cell_type": "markdown",
   "metadata": {},
   "source": [
    "### Question 6\n",
    "Add a Gaussian noise with standard deviation 5 to the image ``img_test``. \n",
    "Apply the quadtree splitting on the noisy image by adjusting the threshold to obtain the same result as in the previous question. \n",
    "Which threshold value should be chosen? Does this make sense to you?\n",
    "\n",
    "Hint: use the Numpy function ``random.randn()`` which generates random values according to a normal distribution (Gaussian distribution of null mean and variance 1). To obtain realizations of a Gaussian distribution of standard deviation $\\sigma$, it is sufficient to multiply by $\\sigma$ the realizations of a normal distribution. "
   ]
  },
  {
   "cell_type": "code",
   "execution_count": 54,
   "metadata": {},
   "outputs": [
    {
     "data": {
      "image/png": "[encoded data removed]",
      "text/plain": [
       "<Figure size 640x480 with 1 Axes>"
      ]
     },
     "metadata": {},
     "output_type": "display_data"
    },
    {
     "data": {
      "image/png": "[encoded data removed]",
      "text/plain": [
       "<Figure size 640x480 with 1 Axes>"
      ]
     },
     "metadata": {},
     "output_type": "display_data"
    }
   ],
   "source": [
    "from numpy import random\n",
    "gaussian_img = img_test + random.normal(0, 5, img_test.shape)\n",
    "\n",
    "plt.imshow(gaussian_img)\n",
    "plt.show()\n",
    "\n",
    "LR = listRegions(split(gaussian_img,Region(0,0,gaussian_img.shape[0],gaussian_img.shape[1]),predsplit,10))\n",
    "new_img = drawRegions(LR,gaussian_img)\n",
    "plt.imshow(new_img)\n",
    "plt.show()"
   ]
  },
  {
   "cell_type": "markdown",
   "metadata": {},
   "source": [
    "## Exercise 2\n",
    "\n",
    "Experiment the split algorithm on the 4 natural images provided. For each image try to find the threshold that seems to you visually the best. Display the number of regions obtained after splitting."
   ]
  },
  {
   "cell_type": "code",
   "execution_count": null,
   "metadata": {},
   "outputs": [],
   "source": []
  },
  {
   "cell_type": "markdown",
   "metadata": {},
   "source": [
    "## Exercise 3\n",
    "### Question 1\n",
    "Modify the function ``listRegions(L)`` to make it a function ``listRegionsStat(L,I)`` which computes the list of leaves of the quadtree ``L``. Each element of this list will be enriched with three scalar values: the first being the size, the second the mean and the third the variance of pixel values of the block in the image ``I``. This function then returns a list whose elements have the following formal type:\n",
    "```python\n",
    "type BlockStat = tuple[int**4,int,float**2]\n",
    "```\n",
    "\n",
    "The first four values are those of the ``Block`` type, the fifth is the size of the block (in number of pixels) and the last two values are the mean and variance calculated over the region."
   ]
  },
  {
   "cell_type": "code",
   "execution_count": 57,
   "metadata": {},
   "outputs": [],
   "source": [
    "# type BlockStat = tuple[int**4,int,float**2]\n",
    "\n",
    "def listRegionsStat(L:QuadTree,I):\n",
    "    \"\"\" QuadTree*Array -> list[BlockStat] \"\"\"\n",
    "    \n",
    "    return L.ListRegionsStat(I)"
   ]
  },
  {
   "cell_type": "code",
   "execution_count": 60,
   "metadata": {},
   "outputs": [
    {
     "name": "stdout",
     "output_type": "stream",
     "text": [
      "[(0, 0, 32, 32, 1024, 150.0, 0.0), (0, 32, 8, 8, 64, 150.0, 0.0), (0, 40, 8, 8, 64, 150.0, 0.0), (8, 32, 8, 8, 64, 150.0, 0.0), (8, 40, 8, 8, 64, 50.0, 0.0), (0, 48, 8, 8, 64, 150.0, 0.0), (0, 56, 8, 8, 64, 150.0, 0.0), (8, 48, 8, 8, 64, 50.0, 0.0), (8, 56, 8, 8, 64, 150.0, 0.0), (16, 32, 8, 8, 64, 150.0, 0.0), (16, 40, 8, 8, 64, 50.0, 0.0), (24, 32, 8, 8, 64, 150.0, 0.0), (24, 40, 8, 8, 64, 150.0, 0.0), (16, 48, 8, 8, 64, 50.0, 0.0), (16, 56, 8, 8, 64, 150.0, 0.0), (24, 48, 8, 8, 64, 150.0, 0.0), (24, 56, 8, 8, 64, 150.0, 0.0), (32, 0, 16, 16, 256, 150.0, 0.0), (32, 16, 16, 16, 256, 100.0, 0.0), (48, 0, 16, 16, 256, 150.0, 0.0), (48, 16, 16, 16, 256, 150.0, 0.0), (32, 32, 16, 16, 256, 100.0, 0.0), (32, 48, 16, 16, 256, 150.0, 0.0), (48, 32, 16, 16, 256, 150.0, 0.0), (48, 48, 16, 16, 256, 150.0, 0.0)]\n"
     ]
    }
   ],
   "source": [
    "R = listRegionsStat(split(img_test,Region(0,0,img_test.shape[0],img_test.shape[1]),predsplit,10),img_test)\n",
    "print(R)"
   ]
  },
  {
   "cell_type": "markdown",
   "metadata": {},
   "source": [
    "### Question 2\n",
    "In the remainder, the formal type is considered:\n",
    "```python\n",
    "type Region = list[BlocStats]\n",
    "```\n",
    "A region, as seen during the tutorial work, is therefore a list of blocks. Write the predicate ``predmerge(b,R,*args)`` as seen in tutorial work. This function returns ``True`` if the ``b`` block should merge into the ``R`` region. If a merge happens, then the first item of ``R`` will have its statistics updated to describe the statistics of the region ``R`` merged with `b`."
   ]
  },
  {
   "cell_type": "code",
   "execution_count": 61,
   "metadata": {},
   "outputs": [],
   "source": [
    "def predmerge(b,R,*args):\n",
    "    \"\"\" BlocsStat*Region*... -> bool \n",
    "        If merge, R[0] is modified\n",
    "    \"\"\"\n",
    "    _,_,_,_,n1,mu1,v1 = b\n",
    "    x,y,e,f,n2,mu2,v2 = R[0]\n",
    "\n",
    "    n = n1 + n2\n",
    "    mu = (n1 * mu1 + n2 * mu2) / n\n",
    "    v = (n1 * (v1 + mu1**2) + n2 * (v2 + mu2**2)) / n - mu**2\n",
    "\n",
    "    if v < args[0]**2:\n",
    "        R[0] = (x,y,e,f,n,mu,v)\n",
    "        return True\n",
    "    else:\n",
    "        return False\n"
   ]
  },
  {
   "cell_type": "markdown",
   "metadata": {},
   "source": [
    "### Question 3\n",
    "Using `predmerge()` and `neighbors()` functions, given at the beginning of the notebook, write the function ``merge()`` discussed in tutorial work (exercise 7.6).\n",
    "\n",
    "Recalls on Python lists:\n",
    "- Remove an element `a` from a list `L`: `L.remove(a)`\n",
    "- Test if `a` belongs to a list `L`: `a in L` \n",
    "- Iterate the elements of a list `L`: `for a in L:`\n",
    "- Access to an element of a list: as with numpy arrays"
   ]
  },
  {
   "cell_type": "code",
   "execution_count": 62,
   "metadata": {},
   "outputs": [],
   "source": [
    "def merge(S,I,pred,*args):\n",
    "    \"\"\" QuadTree*Array*(BlockStat*Region*...->bool) -> list[Region]\n",
    "        Merge the leaves of S in a list of regions\n",
    "    \"\"\"\n",
    "    K = listRegionsStat(S,I)\n",
    "    L = []\n",
    "\n",
    "    while K != []:\n",
    "        b = K.pop(0)\n",
    "        R = [b]\n",
    "        N = neighbors(b,K)\n",
    "        while N != []:\n",
    "            bi = N.pop(0)\n",
    "            if pred(bi,R,*args):\n",
    "                K.remove(bi)\n",
    "                R.append(bi)\n",
    "        L.append(Region(*R[0][:4]))\n",
    "    return L"
   ]
  },
  {
   "cell_type": "markdown",
   "metadata": {},
   "source": [
    "### Question 4\n",
    "Test the previous functions using the synthetic image `img_test`. In particular, check that merge() returns a list of 3 elements (i.e. 3 regions)."
   ]
  },
  {
   "cell_type": "code",
   "execution_count": 64,
   "metadata": {},
   "outputs": [
    {
     "ename": "TypeError",
     "evalue": "'function' object is not subscriptable",
     "output_type": "error",
     "traceback": [
      "\u001b[1;31m---------------------------------------------------------------------------\u001b[0m",
      "\u001b[1;31mTypeError\u001b[0m                                 Traceback (most recent call last)",
      "Cell \u001b[1;32mIn [64], line 2\u001b[0m\n\u001b[0;32m      1\u001b[0m QT \u001b[39m=\u001b[39m split(img_test,Region(\u001b[39m0\u001b[39m,\u001b[39m0\u001b[39m,img_test\u001b[39m.\u001b[39mshape[\u001b[39m0\u001b[39m],img_test\u001b[39m.\u001b[39mshape[\u001b[39m1\u001b[39m]), predsplit, \u001b[39m10\u001b[39m)\n\u001b[1;32m----> 2\u001b[0m M \u001b[39m=\u001b[39m merge(QT,predmerge, \u001b[39m10\u001b[39;49m)\n\u001b[0;32m      3\u001b[0m \u001b[39massert\u001b[39;00m \u001b[39mlen\u001b[39m(M) \u001b[39m==\u001b[39m \u001b[39m3\u001b[39m\n",
      "Cell \u001b[1;32mIn [62], line 5\u001b[0m, in \u001b[0;36mmerge\u001b[1;34m(S, I, pred, *args)\u001b[0m\n\u001b[0;32m      1\u001b[0m \u001b[39mdef\u001b[39;00m \u001b[39mmerge\u001b[39m(S,I,pred,\u001b[39m*\u001b[39margs):\n\u001b[0;32m      2\u001b[0m     \u001b[39m\"\"\" QuadTree*Array*(BlockStat*Region*...->bool) -> list[Region]\u001b[39;00m\n\u001b[0;32m      3\u001b[0m \u001b[39m        Merge the leaves of S in a list of regions\u001b[39;00m\n\u001b[0;32m      4\u001b[0m \u001b[39m    \"\"\"\u001b[39;00m\n\u001b[1;32m----> 5\u001b[0m     K \u001b[39m=\u001b[39m listRegionsStat(S,I)\n\u001b[0;32m      6\u001b[0m     L \u001b[39m=\u001b[39m []\n\u001b[0;32m      8\u001b[0m     \u001b[39mwhile\u001b[39;00m K \u001b[39m!=\u001b[39m []:\n",
      "Cell \u001b[1;32mIn [57], line 6\u001b[0m, in \u001b[0;36mlistRegionsStat\u001b[1;34m(L, I)\u001b[0m\n\u001b[0;32m      3\u001b[0m \u001b[39mdef\u001b[39;00m \u001b[39mlistRegionsStat\u001b[39m(L:QuadTree,I):\n\u001b[0;32m      4\u001b[0m     \u001b[39m\"\"\" QuadTree*Array -> list[BlockStat] \"\"\"\u001b[39;00m\n\u001b[1;32m----> 6\u001b[0m     \u001b[39mreturn\u001b[39;00m L\u001b[39m.\u001b[39;49mListRegionsStat(I)\n",
      "Cell \u001b[1;32mIn [56], line 22\u001b[0m, in \u001b[0;36mQuadTree.ListRegionsStat\u001b[1;34m(self, img)\u001b[0m\n\u001b[0;32m     20\u001b[0m     \u001b[39mreturn\u001b[39;00m [\u001b[39mself\u001b[39m\u001b[39m.\u001b[39mregion\u001b[39m.\u001b[39mRegionStat(img)]\n\u001b[0;32m     21\u001b[0m \u001b[39melse\u001b[39;00m:\n\u001b[1;32m---> 22\u001b[0m     \u001b[39mreturn\u001b[39;00m \u001b[39mself\u001b[39;49m\u001b[39m.\u001b[39;49mNW\u001b[39m.\u001b[39;49mListRegionsStat(img) \u001b[39m+\u001b[39m \u001b[39mself\u001b[39m\u001b[39m.\u001b[39mNE\u001b[39m.\u001b[39mListRegionsStat(img) \u001b[39m+\u001b[39m \u001b[39mself\u001b[39m\u001b[39m.\u001b[39mSW\u001b[39m.\u001b[39mListRegionsStat(img) \u001b[39m+\u001b[39m \u001b[39mself\u001b[39m\u001b[39m.\u001b[39mSE\u001b[39m.\u001b[39mListRegionsStat(img)\n",
      "Cell \u001b[1;32mIn [56], line 20\u001b[0m, in \u001b[0;36mQuadTree.ListRegionsStat\u001b[1;34m(self, img)\u001b[0m\n\u001b[0;32m     18\u001b[0m \u001b[39mdef\u001b[39;00m \u001b[39mListRegionsStat\u001b[39m(\u001b[39mself\u001b[39m, img):\n\u001b[0;32m     19\u001b[0m     \u001b[39mif\u001b[39;00m \u001b[39mself\u001b[39m\u001b[39m.\u001b[39mNW \u001b[39m==\u001b[39m \u001b[39mNone\u001b[39;00m:\n\u001b[1;32m---> 20\u001b[0m         \u001b[39mreturn\u001b[39;00m [\u001b[39mself\u001b[39;49m\u001b[39m.\u001b[39;49mregion\u001b[39m.\u001b[39;49mRegionStat(img)]\n\u001b[0;32m     21\u001b[0m     \u001b[39melse\u001b[39;00m:\n\u001b[0;32m     22\u001b[0m         \u001b[39mreturn\u001b[39;00m \u001b[39mself\u001b[39m\u001b[39m.\u001b[39mNW\u001b[39m.\u001b[39mListRegionsStat(img) \u001b[39m+\u001b[39m \u001b[39mself\u001b[39m\u001b[39m.\u001b[39mNE\u001b[39m.\u001b[39mListRegionsStat(img) \u001b[39m+\u001b[39m \u001b[39mself\u001b[39m\u001b[39m.\u001b[39mSW\u001b[39m.\u001b[39mListRegionsStat(img) \u001b[39m+\u001b[39m \u001b[39mself\u001b[39m\u001b[39m.\u001b[39mSE\u001b[39m.\u001b[39mListRegionsStat(img)\n",
      "Cell \u001b[1;32mIn [59], line 21\u001b[0m, in \u001b[0;36mRegion.RegionStat\u001b[1;34m(self, img)\u001b[0m\n\u001b[0;32m     20\u001b[0m \u001b[39mdef\u001b[39;00m \u001b[39mRegionStat\u001b[39m(\u001b[39mself\u001b[39m, img):\n\u001b[1;32m---> 21\u001b[0m     \u001b[39mreturn\u001b[39;00m (\u001b[39mself\u001b[39m\u001b[39m.\u001b[39mx, \u001b[39mself\u001b[39m\u001b[39m.\u001b[39my, \u001b[39mself\u001b[39m\u001b[39m.\u001b[39mn, \u001b[39mself\u001b[39m\u001b[39m.\u001b[39mm, \u001b[39mself\u001b[39m\u001b[39m.\u001b[39mn \u001b[39m*\u001b[39m \u001b[39mself\u001b[39m\u001b[39m.\u001b[39mm, np\u001b[39m.\u001b[39mmean(\u001b[39mself\u001b[39;49m\u001b[39m.\u001b[39;49mgetRegionValue(img)), np\u001b[39m.\u001b[39mstd(\u001b[39mself\u001b[39m\u001b[39m.\u001b[39mgetRegionValue(img)))\n",
      "Cell \u001b[1;32mIn [59], line 9\u001b[0m, in \u001b[0;36mRegion.getRegionValue\u001b[1;34m(self, img)\u001b[0m\n\u001b[0;32m      8\u001b[0m \u001b[39mdef\u001b[39;00m \u001b[39mgetRegionValue\u001b[39m(\u001b[39mself\u001b[39m, img):\n\u001b[1;32m----> 9\u001b[0m     \u001b[39mreturn\u001b[39;00m img[\u001b[39mself\u001b[39;49m\u001b[39m.\u001b[39;49mx:\u001b[39mself\u001b[39;49m\u001b[39m.\u001b[39;49mx\u001b[39m+\u001b[39;49m\u001b[39mself\u001b[39;49m\u001b[39m.\u001b[39;49mn, \u001b[39mself\u001b[39;49m\u001b[39m.\u001b[39;49my:\u001b[39mself\u001b[39;49m\u001b[39m.\u001b[39;49my\u001b[39m+\u001b[39;49m\u001b[39mself\u001b[39;49m\u001b[39m.\u001b[39;49mm]\n",
      "\u001b[1;31mTypeError\u001b[0m: 'function' object is not subscriptable"
     ]
    }
   ],
   "source": [
    "QT = split(img_test,Region(0,0,img_test.shape[0],img_test.shape[1]), predsplit, 10)\n",
    "M = merge(QT,predmerge, 10)\n",
    "assert len(M) == 3"
   ]
  },
  {
   "cell_type": "markdown",
   "metadata": {},
   "source": [
    "### Question 5\n",
    "Write a function ``regions(LR,shape)`` that takes as arguments a list of regions (such as returned by the function ``merge()``) and an image size, and returns an image of the regions. Each region will be colored with the gray level corresponding to the average of the region. The ``shape`` parameter gives the size of the image to be produced. \n",
    "\n",
    "Test the function on the previous example."
   ]
  },
  {
   "cell_type": "code",
   "execution_count": null,
   "metadata": {},
   "outputs": [],
   "source": [
    "def regions(LR,shape):\n",
    "    \"\"\" list[Region]*tuple[int,int] -> Array \"\"\"\n"
   ]
  },
  {
   "cell_type": "markdown",
   "metadata": {},
   "source": [
    "## Exercise 4: experiments\n",
    "### Question 1\n",
    "Test the function ``merge()`` on the images ``angio``, ``cam``, ``muscle``, ``prisme`` and ``seiche``. Try to produce the best segmentations."
   ]
  },
  {
   "cell_type": "code",
   "execution_count": null,
   "metadata": {},
   "outputs": [],
   "source": []
  },
  {
   "cell_type": "markdown",
   "metadata": {},
   "source": [
    "### Question 2\n",
    "The result of the merge algorithm highly depends on how you visit the regions. One can then sort the leaves of the quadtree, for example, from the smallest to the largest blocks, or the opposite (use the Python function ``sorted()``). \n",
    "The same question arises when calculating the set of neighbors of the merged region. Should they be sorted? If yes, according to which criteria? their size? their proximity? \n",
    "Obviously there is no universal answer but it should be adapted to each type of problem. \n",
    "Do some tests to see the influence of these sortings on the result of the merger."
   ]
  },
  {
   "cell_type": "code",
   "execution_count": null,
   "metadata": {},
   "outputs": [],
   "source": []
  },
  {
   "cell_type": "markdown",
   "metadata": {},
   "source": [
    "### Question 3 (bonus)\n",
    "Imagine and experiment alternative predicates for both the split and the merge steps. It is possible to use edges-based predicates, and also to combine with variance-based predicates.\n"
   ]
  },
  {
   "cell_type": "code",
   "execution_count": null,
   "metadata": {},
   "outputs": [],
   "source": []
  }
 ],
 "metadata": {
  "kernelspec": {
   "display_name": "Python 3.10.4 64-bit",
   "language": "python",
   "name": "python3"
  },
  "language_info": {
   "codemirror_mode": {
    "name": "ipython",
    "version": 3
   },
   "file_extension": ".py",
   "mimetype": "text/x-python",
   "name": "python",
   "nbconvert_exporter": "python",
   "pygments_lexer": "ipython3",
   "version": "3.10.4"
  },
  "vscode": {
   "interpreter": {
    "hash": "97193d53918a3aef13fbd15706d01f7fefd20725039d4af3a3671b100d98bc00"
   }
  }
 },
 "nbformat": 4,
 "nbformat_minor": 2
}
